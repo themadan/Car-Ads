{
  "nbformat": 4,
  "nbformat_minor": 0,
  "metadata": {
    "kernelspec": {
      "display_name": "Python 3",
      "language": "python",
      "name": "python3"
    },
    "language_info": {
      "codemirror_mode": {
        "name": "ipython",
        "version": 3
      },
      "file_extension": ".py",
      "mimetype": "text/x-python",
      "name": "python",
      "nbconvert_exporter": "python",
      "pygments_lexer": "ipython3",
      "version": "3.7.4"
    },
    "colab": {
      "name": "Car Ads - EDA.ipynb",
      "provenance": [],
      "collapsed_sections": []
    }
  },
  "cells": [
    {
      "cell_type": "markdown",
      "metadata": {
        "id": "bQ8pxVbp3u3Z",
        "colab_type": "text"
      },
      "source": [
        "# Car Ads - Exploratory Data Analysis"
      ]
    },
    {
      "cell_type": "code",
      "metadata": {
        "id": "bQeuYpJi313G",
        "colab_type": "code",
        "outputId": "2af0708b-b345-437b-eef9-5000c31695a4",
        "colab": {
          "base_uri": "https://localhost:8080/",
          "height": 121
        }
      },
      "source": [
        "import gdown\n",
        "import os\n",
        "from pandas_profiling import ProfileReport\n",
        "\n",
        "# https://drive.google.com/open?id=1v2Wi2Muyf3iz0YyQExe9_fIZXC2fQ_mM\n",
        "\n",
        "url = f'https://drive.google.com/uc?id=1v2Wi2Muyf3iz0YyQExe9_fIZXC2fQ_mM'\n",
        "output = 'car-data.zip'\n",
        "if not os.path.exists(output):\n",
        "    gdown.download(url, output, quiet=False)\n",
        "    !unzip car-data.zip"
      ],
      "execution_count": 2,
      "outputs": [
        {
          "output_type": "stream",
          "text": [
            "Downloading...\n",
            "From: https://drive.google.com/uc?id=1v2Wi2Muyf3iz0YyQExe9_fIZXC2fQ_mM\n",
            "To: /content/car-data.zip\n",
            "92.5MB [00:01, 77.5MB/s]\n"
          ],
          "name": "stderr"
        },
        {
          "output_type": "stream",
          "text": [
            "Archive:  car-data.zip\n",
            "  inflating: all_anonymized_2015_11_2017_03.csv  \n"
          ],
          "name": "stdout"
        }
      ]
    },
    {
      "cell_type": "code",
      "metadata": {
        "id": "ijYebdd13u3e",
        "colab_type": "code",
        "outputId": "11b2da85-f349-43c2-ea30-7d17abe7444b",
        "colab": {
          "base_uri": "https://localhost:8080/",
          "height": 72
        }
      },
      "source": [
        "import numpy as np\n",
        "import pandas as pd\n",
        "import matplotlib.pyplot as plt\n",
        "import seaborn as sns"
      ],
      "execution_count": 3,
      "outputs": [
        {
          "output_type": "stream",
          "text": [
            "/usr/local/lib/python3.6/dist-packages/statsmodels/tools/_testing.py:19: FutureWarning: pandas.util.testing is deprecated. Use the functions in the public API at pandas.testing instead.\n",
            "  import pandas.util.testing as tm\n"
          ],
          "name": "stderr"
        }
      ]
    },
    {
      "cell_type": "code",
      "metadata": {
        "id": "LvkjKpMSvwev",
        "colab_type": "code",
        "colab": {}
      },
      "source": [
        "%matplotlib inline"
      ],
      "execution_count": 0,
      "outputs": []
    },
    {
      "cell_type": "markdown",
      "metadata": {
        "id": "Ns9kBji53u3t",
        "colab_type": "text"
      },
      "source": [
        "## Load data"
      ]
    },
    {
      "cell_type": "code",
      "metadata": {
        "id": "sadmbYTn3u30",
        "colab_type": "code",
        "outputId": "d3f9edc7-531e-4f98-dac2-22132eddeb88",
        "colab": {
          "base_uri": "https://localhost:8080/",
          "height": 72
        }
      },
      "source": [
        "import os\n",
        "\n",
        "root_dir = '.'\n",
        "filename = 'all_anonymized_2015_11_2017_03.csv'\n",
        "\n",
        "filepath = os.path.join(root_dir, filename)\n",
        "\n",
        "df = pd.read_csv(filepath)"
      ],
      "execution_count": 5,
      "outputs": [
        {
          "output_type": "stream",
          "text": [
            "/usr/local/lib/python3.6/dist-packages/IPython/core/interactiveshell.py:2718: DtypeWarning: Columns (7,8,10,11,12) have mixed types.Specify dtype option on import or set low_memory=False.\n",
            "  interactivity=interactivity, compiler=compiler, result=result)\n"
          ],
          "name": "stderr"
        }
      ]
    },
    {
      "cell_type": "code",
      "metadata": {
        "id": "fZU3_QDK3u4D",
        "colab_type": "code",
        "outputId": "f1eb6b3d-99e7-4d86-fe06-1c34e2d1d3fb",
        "colab": {
          "base_uri": "https://localhost:8080/",
          "height": 313
        }
      },
      "source": [
        "df.head()"
      ],
      "execution_count": 6,
      "outputs": [
        {
          "output_type": "execute_result",
          "data": {
            "text/html": [
              "<div>\n",
              "<style scoped>\n",
              "    .dataframe tbody tr th:only-of-type {\n",
              "        vertical-align: middle;\n",
              "    }\n",
              "\n",
              "    .dataframe tbody tr th {\n",
              "        vertical-align: top;\n",
              "    }\n",
              "\n",
              "    .dataframe thead th {\n",
              "        text-align: right;\n",
              "    }\n",
              "</style>\n",
              "<table border=\"1\" class=\"dataframe\">\n",
              "  <thead>\n",
              "    <tr style=\"text-align: right;\">\n",
              "      <th></th>\n",
              "      <th>maker</th>\n",
              "      <th>model</th>\n",
              "      <th>mileage</th>\n",
              "      <th>manufacture_year</th>\n",
              "      <th>engine_displacement</th>\n",
              "      <th>engine_power</th>\n",
              "      <th>body_type</th>\n",
              "      <th>color_slug</th>\n",
              "      <th>stk_year</th>\n",
              "      <th>transmission</th>\n",
              "      <th>door_count</th>\n",
              "      <th>seat_count</th>\n",
              "      <th>fuel_type</th>\n",
              "      <th>date_created</th>\n",
              "      <th>date_last_seen</th>\n",
              "      <th>price_eur</th>\n",
              "    </tr>\n",
              "  </thead>\n",
              "  <tbody>\n",
              "    <tr>\n",
              "      <th>0</th>\n",
              "      <td>ford</td>\n",
              "      <td>galaxy</td>\n",
              "      <td>151000.0</td>\n",
              "      <td>2011.0</td>\n",
              "      <td>2000.0</td>\n",
              "      <td>103.0</td>\n",
              "      <td>NaN</td>\n",
              "      <td>NaN</td>\n",
              "      <td>None</td>\n",
              "      <td>man</td>\n",
              "      <td>5</td>\n",
              "      <td>7</td>\n",
              "      <td>diesel</td>\n",
              "      <td>2015-11-14 18:10:06.838319+00</td>\n",
              "      <td>2016-01-27 20:40:15.46361+00</td>\n",
              "      <td>10584.75</td>\n",
              "    </tr>\n",
              "    <tr>\n",
              "      <th>1</th>\n",
              "      <td>skoda</td>\n",
              "      <td>octavia</td>\n",
              "      <td>143476.0</td>\n",
              "      <td>2012.0</td>\n",
              "      <td>2000.0</td>\n",
              "      <td>81.0</td>\n",
              "      <td>NaN</td>\n",
              "      <td>NaN</td>\n",
              "      <td>None</td>\n",
              "      <td>man</td>\n",
              "      <td>5</td>\n",
              "      <td>5</td>\n",
              "      <td>diesel</td>\n",
              "      <td>2015-11-14 18:10:06.853411+00</td>\n",
              "      <td>2016-01-27 20:40:15.46361+00</td>\n",
              "      <td>8882.31</td>\n",
              "    </tr>\n",
              "    <tr>\n",
              "      <th>2</th>\n",
              "      <td>bmw</td>\n",
              "      <td>NaN</td>\n",
              "      <td>97676.0</td>\n",
              "      <td>2010.0</td>\n",
              "      <td>1995.0</td>\n",
              "      <td>85.0</td>\n",
              "      <td>NaN</td>\n",
              "      <td>NaN</td>\n",
              "      <td>None</td>\n",
              "      <td>man</td>\n",
              "      <td>5</td>\n",
              "      <td>5</td>\n",
              "      <td>diesel</td>\n",
              "      <td>2015-11-14 18:10:06.861792+00</td>\n",
              "      <td>2016-01-27 20:40:15.46361+00</td>\n",
              "      <td>12065.06</td>\n",
              "    </tr>\n",
              "    <tr>\n",
              "      <th>3</th>\n",
              "      <td>skoda</td>\n",
              "      <td>fabia</td>\n",
              "      <td>111970.0</td>\n",
              "      <td>2004.0</td>\n",
              "      <td>1200.0</td>\n",
              "      <td>47.0</td>\n",
              "      <td>NaN</td>\n",
              "      <td>NaN</td>\n",
              "      <td>None</td>\n",
              "      <td>man</td>\n",
              "      <td>5</td>\n",
              "      <td>5</td>\n",
              "      <td>gasoline</td>\n",
              "      <td>2015-11-14 18:10:06.872313+00</td>\n",
              "      <td>2016-01-27 20:40:15.46361+00</td>\n",
              "      <td>2960.77</td>\n",
              "    </tr>\n",
              "    <tr>\n",
              "      <th>4</th>\n",
              "      <td>skoda</td>\n",
              "      <td>fabia</td>\n",
              "      <td>128886.0</td>\n",
              "      <td>2004.0</td>\n",
              "      <td>1200.0</td>\n",
              "      <td>47.0</td>\n",
              "      <td>NaN</td>\n",
              "      <td>NaN</td>\n",
              "      <td>None</td>\n",
              "      <td>man</td>\n",
              "      <td>5</td>\n",
              "      <td>5</td>\n",
              "      <td>gasoline</td>\n",
              "      <td>2015-11-14 18:10:06.880335+00</td>\n",
              "      <td>2016-01-27 20:40:15.46361+00</td>\n",
              "      <td>2738.71</td>\n",
              "    </tr>\n",
              "  </tbody>\n",
              "</table>\n",
              "</div>"
            ],
            "text/plain": [
              "   maker    model  ...                date_last_seen  price_eur\n",
              "0   ford   galaxy  ...  2016-01-27 20:40:15.46361+00   10584.75\n",
              "1  skoda  octavia  ...  2016-01-27 20:40:15.46361+00    8882.31\n",
              "2    bmw      NaN  ...  2016-01-27 20:40:15.46361+00   12065.06\n",
              "3  skoda    fabia  ...  2016-01-27 20:40:15.46361+00    2960.77\n",
              "4  skoda    fabia  ...  2016-01-27 20:40:15.46361+00    2738.71\n",
              "\n",
              "[5 rows x 16 columns]"
            ]
          },
          "metadata": {
            "tags": []
          },
          "execution_count": 6
        }
      ]
    },
    {
      "cell_type": "code",
      "metadata": {
        "id": "nA24C55v3u4R",
        "colab_type": "code",
        "outputId": "9c776acd-2745-4284-ea0b-e69b2d6bdf9b",
        "colab": {
          "base_uri": "https://localhost:8080/",
          "height": 300
        }
      },
      "source": [
        "df.describe()"
      ],
      "execution_count": 7,
      "outputs": [
        {
          "output_type": "execute_result",
          "data": {
            "text/html": [
              "<div>\n",
              "<style scoped>\n",
              "    .dataframe tbody tr th:only-of-type {\n",
              "        vertical-align: middle;\n",
              "    }\n",
              "\n",
              "    .dataframe tbody tr th {\n",
              "        vertical-align: top;\n",
              "    }\n",
              "\n",
              "    .dataframe thead th {\n",
              "        text-align: right;\n",
              "    }\n",
              "</style>\n",
              "<table border=\"1\" class=\"dataframe\">\n",
              "  <thead>\n",
              "    <tr style=\"text-align: right;\">\n",
              "      <th></th>\n",
              "      <th>mileage</th>\n",
              "      <th>manufacture_year</th>\n",
              "      <th>engine_displacement</th>\n",
              "      <th>engine_power</th>\n",
              "      <th>price_eur</th>\n",
              "    </tr>\n",
              "  </thead>\n",
              "  <tbody>\n",
              "    <tr>\n",
              "      <th>count</th>\n",
              "      <td>3.190328e+06</td>\n",
              "      <td>3.182334e+06</td>\n",
              "      <td>2.809498e+06</td>\n",
              "      <td>2.998035e+06</td>\n",
              "      <td>3.552912e+06</td>\n",
              "    </tr>\n",
              "    <tr>\n",
              "      <th>mean</th>\n",
              "      <td>1.158140e+05</td>\n",
              "      <td>2.000871e+03</td>\n",
              "      <td>2.043958e+03</td>\n",
              "      <td>9.846796e+01</td>\n",
              "      <td>1.625812e+06</td>\n",
              "    </tr>\n",
              "    <tr>\n",
              "      <th>std</th>\n",
              "      <td>3.422508e+05</td>\n",
              "      <td>8.172588e+01</td>\n",
              "      <td>1.973958e+03</td>\n",
              "      <td>4.907309e+01</td>\n",
              "      <td>2.025622e+09</td>\n",
              "    </tr>\n",
              "    <tr>\n",
              "      <th>min</th>\n",
              "      <td>0.000000e+00</td>\n",
              "      <td>0.000000e+00</td>\n",
              "      <td>0.000000e+00</td>\n",
              "      <td>1.000000e+00</td>\n",
              "      <td>4.000000e-02</td>\n",
              "    </tr>\n",
              "    <tr>\n",
              "      <th>25%</th>\n",
              "      <td>1.880000e+04</td>\n",
              "      <td>2.004000e+03</td>\n",
              "      <td>1.400000e+03</td>\n",
              "      <td>6.800000e+01</td>\n",
              "      <td>1.295340e+03</td>\n",
              "    </tr>\n",
              "    <tr>\n",
              "      <th>50%</th>\n",
              "      <td>8.641500e+04</td>\n",
              "      <td>2.009000e+03</td>\n",
              "      <td>1.798000e+03</td>\n",
              "      <td>8.600000e+01</td>\n",
              "      <td>7.364910e+03</td>\n",
              "    </tr>\n",
              "    <tr>\n",
              "      <th>75%</th>\n",
              "      <td>1.580250e+05</td>\n",
              "      <td>2.013000e+03</td>\n",
              "      <td>1.997000e+03</td>\n",
              "      <td>1.100000e+02</td>\n",
              "      <td>1.628423e+04</td>\n",
              "    </tr>\n",
              "    <tr>\n",
              "      <th>max</th>\n",
              "      <td>9.999999e+06</td>\n",
              "      <td>2.017000e+03</td>\n",
              "      <td>3.276700e+04</td>\n",
              "      <td>2.237000e+03</td>\n",
              "      <td>2.706149e+12</td>\n",
              "    </tr>\n",
              "  </tbody>\n",
              "</table>\n",
              "</div>"
            ],
            "text/plain": [
              "            mileage  manufacture_year  ...  engine_power     price_eur\n",
              "count  3.190328e+06      3.182334e+06  ...  2.998035e+06  3.552912e+06\n",
              "mean   1.158140e+05      2.000871e+03  ...  9.846796e+01  1.625812e+06\n",
              "std    3.422508e+05      8.172588e+01  ...  4.907309e+01  2.025622e+09\n",
              "min    0.000000e+00      0.000000e+00  ...  1.000000e+00  4.000000e-02\n",
              "25%    1.880000e+04      2.004000e+03  ...  6.800000e+01  1.295340e+03\n",
              "50%    8.641500e+04      2.009000e+03  ...  8.600000e+01  7.364910e+03\n",
              "75%    1.580250e+05      2.013000e+03  ...  1.100000e+02  1.628423e+04\n",
              "max    9.999999e+06      2.017000e+03  ...  2.237000e+03  2.706149e+12\n",
              "\n",
              "[8 rows x 5 columns]"
            ]
          },
          "metadata": {
            "tags": []
          },
          "execution_count": 7
        }
      ]
    },
    {
      "cell_type": "markdown",
      "metadata": {
        "id": "BIvUKYDU3u4a",
        "colab_type": "text"
      },
      "source": [
        "## 1. Variable Identification\n",
        "\n",
        "### Columns and data-types"
      ]
    },
    {
      "cell_type": "code",
      "metadata": {
        "id": "90Y1-hqE3u4c",
        "colab_type": "code",
        "outputId": "809486b0-d99d-4b6e-c552-d44b243f6d7e",
        "colab": {
          "base_uri": "https://localhost:8080/",
          "height": 416
        }
      },
      "source": [
        "df.info()"
      ],
      "execution_count": 8,
      "outputs": [
        {
          "output_type": "stream",
          "text": [
            "<class 'pandas.core.frame.DataFrame'>\n",
            "RangeIndex: 3552912 entries, 0 to 3552911\n",
            "Data columns (total 16 columns):\n",
            " #   Column               Dtype  \n",
            "---  ------               -----  \n",
            " 0   maker                object \n",
            " 1   model                object \n",
            " 2   mileage              float64\n",
            " 3   manufacture_year     float64\n",
            " 4   engine_displacement  float64\n",
            " 5   engine_power         float64\n",
            " 6   body_type            object \n",
            " 7   color_slug           object \n",
            " 8   stk_year             object \n",
            " 9   transmission         object \n",
            " 10  door_count           object \n",
            " 11  seat_count           object \n",
            " 12  fuel_type            object \n",
            " 13  date_created         object \n",
            " 14  date_last_seen       object \n",
            " 15  price_eur            float64\n",
            "dtypes: float64(5), object(11)\n",
            "memory usage: 433.7+ MB\n"
          ],
          "name": "stdout"
        }
      ]
    },
    {
      "cell_type": "code",
      "metadata": {
        "id": "GfCkXS373u4n",
        "colab_type": "code",
        "outputId": "e67eeb45-7c30-428f-a87c-d2117b2e240a",
        "colab": {
          "base_uri": "https://localhost:8080/",
          "height": 121
        }
      },
      "source": [
        "df.fuel_type.value_counts()"
      ],
      "execution_count": 9,
      "outputs": [
        {
          "output_type": "execute_result",
          "data": {
            "text/plain": [
              "gasoline    902222\n",
              "diesel      768207\n",
              "electric     26350\n",
              "lpg           7403\n",
              "cng           1124\n",
              "Name: fuel_type, dtype: int64"
            ]
          },
          "metadata": {
            "tags": []
          },
          "execution_count": 9
        }
      ]
    },
    {
      "cell_type": "markdown",
      "metadata": {
        "id": "YnKrema23u4w",
        "colab_type": "text"
      },
      "source": [
        "#### Categorical Variables\n",
        "\n",
        "1. maker\n",
        "2. model\n",
        "3. body_type\n",
        "4. color_slug\n",
        "5. transmission\n",
        "6. fuel_type\n",
        "\n",
        "#### Numerical Variables\n",
        "\n",
        "1. mileage\n",
        "2. manufacture_year\n",
        "3. engine_displacement\n",
        "4. engine_power\n",
        "5. stk_year\n",
        "6. door_count\n",
        "7. seat_count\n",
        "8. price_eur"
      ]
    },
    {
      "cell_type": "code",
      "metadata": {
        "id": "bnm1k4Jc3u4x",
        "colab_type": "code",
        "colab": {}
      },
      "source": [
        "categorical_features = ['maker', 'model', 'body_type', 'color_slug', 'transmission', 'fuel_type']\n",
        "\n",
        "numerical_features = ['mileage', 'manufacture_year', 'engine_displacement', 'engine_power', 'stk_year',\n",
        "                      'door_count', 'seat_count', 'price_eur']"
      ],
      "execution_count": 0,
      "outputs": []
    },
    {
      "cell_type": "markdown",
      "metadata": {
        "id": "scqqS42E3u46",
        "colab_type": "text"
      },
      "source": [
        "## 2. Univariate Analysis"
      ]
    },
    {
      "cell_type": "markdown",
      "metadata": {
        "id": "0gAogyiO3u48",
        "colab_type": "text"
      },
      "source": [
        "### 2.1 Categorical Data\n",
        "\n",
        "Non-graphical EDA"
      ]
    },
    {
      "cell_type": "code",
      "metadata": {
        "id": "ddRYjZub3u49",
        "colab_type": "code",
        "outputId": "4df90f87-78ab-4eaa-db6f-89d698bf13c2",
        "colab": {
          "base_uri": "https://localhost:8080/",
          "height": 920
        }
      },
      "source": [
        "cat_d = pd.DataFrame(index=[\"Count\", \"Percentage\"])\n",
        "\n",
        "col_vals = [[]] * len(categorical_features)\n",
        "cat_dfs = []\n",
        "\n",
        "for catf in categorical_features:\n",
        "    counts = df[catf].value_counts()\n",
        "    percentages = 100 * counts/counts.sum()\n",
        "    cat_df = pd.DataFrame({\n",
        "        'counts': counts,\n",
        "        'percentages': percentages\n",
        "    }, index=counts.index).T\n",
        "    print(f'Feature: {catf}')\n",
        "    print(f'Total categories: {df[catf].nunique()}')\n",
        "    print(cat_df)\n",
        "    print(f'Total: {counts.sum()}', end='\\n\\n')\n",
        "    cat_dfs.append(cat_df)\n",
        "#     print(f'Category: {catf}')\n",
        "#     print(type(counts))"
      ],
      "execution_count": 11,
      "outputs": [
        {
          "output_type": "stream",
          "text": [
            "Feature: maker\n",
            "Total categories: 46\n",
            "                     skoda     volkswagen  ...  rolls-royce  aston-martin\n",
            "counts       313830.000000  297256.000000  ...    46.000000     22.000000\n",
            "percentages      10.343781       9.797505  ...     0.001516      0.000725\n",
            "\n",
            "[2 rows x 46 columns]\n",
            "Total: 3033997\n",
            "\n",
            "Feature: model\n",
            "Total categories: 1012\n",
            "                   octavia         fabia  ...       q60  cls350-cgi\n",
            "counts       129563.000000  91401.000000  ...  1.000000    1.000000\n",
            "percentages       5.354836      3.777602  ...  0.000041    0.000041\n",
            "\n",
            "[2 rows x 1012 columns]\n",
            "Total: 2419551\n",
            "\n",
            "Feature: body_type\n",
            "Total categories: 9\n",
            "                    other        compact  ...  convertible  transporter\n",
            "counts       1.964289e+06  241948.000000  ...  5332.000000  4440.000000\n",
            "percentages  8.083500e+01       9.956716  ...     0.219424     0.182716\n",
            "\n",
            "[2 rows x 9 columns]\n",
            "Total: 2429998\n",
            "\n",
            "Feature: color_slug\n",
            "Total categories: 14\n",
            "                    black         white  ...     violet      bronze\n",
            "counts       42931.000000  40835.000000  ...  811.00000  235.000000\n",
            "percentages     20.492026     19.491554  ...    0.38711    0.112171\n",
            "\n",
            "[2 rows x 14 columns]\n",
            "Total: 209501\n",
            "\n",
            "Feature: transmission\n",
            "Total categories: 2\n",
            "                      man           auto\n",
            "counts       2.021990e+06  789292.000000\n",
            "percentages  7.192413e+01      28.075874\n",
            "Total: 2811282\n",
            "\n",
            "Feature: fuel_type\n",
            "Total categories: 5\n",
            "                  gasoline         diesel  ...          lpg          cng\n",
            "counts       902222.000000  768207.000000  ...  7403.000000  1124.000000\n",
            "percentages      52.906751      45.048044  ...     0.434116     0.065912\n",
            "\n",
            "[2 rows x 5 columns]\n",
            "Total: 1705306\n",
            "\n"
          ],
          "name": "stdout"
        }
      ]
    },
    {
      "cell_type": "markdown",
      "metadata": {
        "id": "TLPX9y-d3u5J",
        "colab_type": "text"
      },
      "source": [
        "Graphical EDA for categorical data"
      ]
    },
    {
      "cell_type": "code",
      "metadata": {
        "id": "UouYgdJm3u5L",
        "colab_type": "code",
        "outputId": "fe677b55-7a8c-4274-b32e-a626d5226276",
        "colab": {
          "base_uri": "https://localhost:8080/",
          "height": 899
        }
      },
      "source": [
        "plt.figure(figsize=(20, 15))\n",
        "\n",
        "ncols = 2\n",
        "nrows = int(np.ceil(len(categorical_features)/ncols))\n",
        "\n",
        "for i, catf in enumerate(categorical_features):\n",
        "    var_count = df[catf].value_counts()\n",
        "    plt.subplot(nrows, ncols, i+1)\n",
        "    sns.set(style=\"darkgrid\")\n",
        "    sns.barplot(var_count.index, var_count.values, alpha=0.9)\n",
        "    plt.title(f'Frequency Distribution of {catf}')\n",
        "    plt.ylabel('Number of Occurrences', fontsize=12)\n",
        "    plt.xlabel(catf, fontsize=12)\n",
        "\n",
        "plt.show()"
      ],
      "execution_count": 12,
      "outputs": [
        {
          "output_type": "display_data",
          "data": {
            "image/png": "[encoded data removed]",
            "text/plain": [
              "<Figure size 1440x1080 with 6 Axes>"
            ]
          },
          "metadata": {
            "tags": [],
            "needs_background": "light"
          }
        }
      ]
    },
    {
      "cell_type": "markdown",
      "metadata": {
        "id": "u92z-BgJ3u5V",
        "colab_type": "text"
      },
      "source": [
        "Explore the model feature."
      ]
    },
    {
      "cell_type": "code",
      "metadata": {
        "id": "D7l4zs373u5X",
        "colab_type": "code",
        "outputId": "80d71f07-a557-4f61-9727-65437625aec0",
        "colab": {
          "base_uri": "https://localhost:8080/",
          "height": 52
        }
      },
      "source": [
        "model_counts = df['model'].value_counts()\n",
        "\n",
        "print(model_counts.median())\n",
        "model_counts[model_counts > 3].shape\n",
        "model_counts[model_counts > 194].shape"
      ],
      "execution_count": 13,
      "outputs": [
        {
          "output_type": "stream",
          "text": [
            "194.5\n"
          ],
          "name": "stdout"
        },
        {
          "output_type": "execute_result",
          "data": {
            "text/plain": [
              "(506,)"
            ]
          },
          "metadata": {
            "tags": []
          },
          "execution_count": 13
        }
      ]
    },
    {
      "cell_type": "markdown",
      "metadata": {
        "id": "Q1vI6lcU3u5e",
        "colab_type": "text"
      },
      "source": [
        "### Numerical  or quantitative variable\n",
        "\n",
        "Characteristic of quantitative variables are:\n",
        "\n",
        "1. Center\n",
        "\n",
        "2. Spread\n",
        "\n",
        "3. Modality (Number of picks in the pdf)\n",
        "\n",
        "4. Shape (heaviness of tails)\n",
        "\n",
        "5. Outliers\n",
        "\n",
        "Sample statistics:\n",
        "\n",
        "1. Sample mean\n",
        "2. Sample variance\n",
        "3. Sample standard deviation\n",
        "4. Sample skewness\n",
        "5. Sample kurtosis"
      ]
    },
    {
      "cell_type": "markdown",
      "metadata": {
        "id": "VK0mmDlg3u5e",
        "colab_type": "text"
      },
      "source": [
        "Non-graphical"
      ]
    },
    {
      "cell_type": "code",
      "metadata": {
        "id": "WGTeKhom3u5h",
        "colab_type": "code",
        "outputId": "1fcd65c0-2982-4579-ebf1-eabf3d1df627",
        "colab": {
          "base_uri": "https://localhost:8080/",
          "height": 206
        }
      },
      "source": [
        "df[numerical_features].head()"
      ],
      "execution_count": 14,
      "outputs": [
        {
          "output_type": "execute_result",
          "data": {
            "text/html": [
              "<div>\n",
              "<style scoped>\n",
              "    .dataframe tbody tr th:only-of-type {\n",
              "        vertical-align: middle;\n",
              "    }\n",
              "\n",
              "    .dataframe tbody tr th {\n",
              "        vertical-align: top;\n",
              "    }\n",
              "\n",
              "    .dataframe thead th {\n",
              "        text-align: right;\n",
              "    }\n",
              "</style>\n",
              "<table border=\"1\" class=\"dataframe\">\n",
              "  <thead>\n",
              "    <tr style=\"text-align: right;\">\n",
              "      <th></th>\n",
              "      <th>mileage</th>\n",
              "      <th>manufacture_year</th>\n",
              "      <th>engine_displacement</th>\n",
              "      <th>engine_power</th>\n",
              "      <th>stk_year</th>\n",
              "      <th>door_count</th>\n",
              "      <th>seat_count</th>\n",
              "      <th>price_eur</th>\n",
              "    </tr>\n",
              "  </thead>\n",
              "  <tbody>\n",
              "    <tr>\n",
              "      <th>0</th>\n",
              "      <td>151000.0</td>\n",
              "      <td>2011.0</td>\n",
              "      <td>2000.0</td>\n",
              "      <td>103.0</td>\n",
              "      <td>None</td>\n",
              "      <td>5</td>\n",
              "      <td>7</td>\n",
              "      <td>10584.75</td>\n",
              "    </tr>\n",
              "    <tr>\n",
              "      <th>1</th>\n",
              "      <td>143476.0</td>\n",
              "      <td>2012.0</td>\n",
              "      <td>2000.0</td>\n",
              "      <td>81.0</td>\n",
              "      <td>None</td>\n",
              "      <td>5</td>\n",
              "      <td>5</td>\n",
              "      <td>8882.31</td>\n",
              "    </tr>\n",
              "    <tr>\n",
              "      <th>2</th>\n",
              "      <td>97676.0</td>\n",
              "      <td>2010.0</td>\n",
              "      <td>1995.0</td>\n",
              "      <td>85.0</td>\n",
              "      <td>None</td>\n",
              "      <td>5</td>\n",
              "      <td>5</td>\n",
              "      <td>12065.06</td>\n",
              "    </tr>\n",
              "    <tr>\n",
              "      <th>3</th>\n",
              "      <td>111970.0</td>\n",
              "      <td>2004.0</td>\n",
              "      <td>1200.0</td>\n",
              "      <td>47.0</td>\n",
              "      <td>None</td>\n",
              "      <td>5</td>\n",
              "      <td>5</td>\n",
              "      <td>2960.77</td>\n",
              "    </tr>\n",
              "    <tr>\n",
              "      <th>4</th>\n",
              "      <td>128886.0</td>\n",
              "      <td>2004.0</td>\n",
              "      <td>1200.0</td>\n",
              "      <td>47.0</td>\n",
              "      <td>None</td>\n",
              "      <td>5</td>\n",
              "      <td>5</td>\n",
              "      <td>2738.71</td>\n",
              "    </tr>\n",
              "  </tbody>\n",
              "</table>\n",
              "</div>"
            ],
            "text/plain": [
              "    mileage  manufacture_year  ...  seat_count  price_eur\n",
              "0  151000.0            2011.0  ...           7   10584.75\n",
              "1  143476.0            2012.0  ...           5    8882.31\n",
              "2   97676.0            2010.0  ...           5   12065.06\n",
              "3  111970.0            2004.0  ...           5    2960.77\n",
              "4  128886.0            2004.0  ...           5    2738.71\n",
              "\n",
              "[5 rows x 8 columns]"
            ]
          },
          "metadata": {
            "tags": []
          },
          "execution_count": 14
        }
      ]
    },
    {
      "cell_type": "code",
      "metadata": {
        "id": "tAamQRGm3u5q",
        "colab_type": "code",
        "outputId": "86d14083-73ce-476e-a81e-c278dabc0209",
        "colab": {
          "base_uri": "https://localhost:8080/",
          "height": 278
        }
      },
      "source": [
        "df[numerical_features].info()"
      ],
      "execution_count": 15,
      "outputs": [
        {
          "output_type": "stream",
          "text": [
            "<class 'pandas.core.frame.DataFrame'>\n",
            "RangeIndex: 3552912 entries, 0 to 3552911\n",
            "Data columns (total 8 columns):\n",
            " #   Column               Dtype  \n",
            "---  ------               -----  \n",
            " 0   mileage              float64\n",
            " 1   manufacture_year     float64\n",
            " 2   engine_displacement  float64\n",
            " 3   engine_power         float64\n",
            " 4   stk_year             object \n",
            " 5   door_count           object \n",
            " 6   seat_count           object \n",
            " 7   price_eur            float64\n",
            "dtypes: float64(5), object(3)\n",
            "memory usage: 216.9+ MB\n"
          ],
          "name": "stdout"
        }
      ]
    },
    {
      "cell_type": "code",
      "metadata": {
        "id": "zAQMNZZj8_PF",
        "colab_type": "code",
        "colab": {}
      },
      "source": [
        "# replace None to nan\n",
        "df_num = df[numerical_features].replace('None', np.nan)\n",
        "\n",
        "for numf in numerical_features:\n",
        "    df_num[numf] = pd.to_numeric(df_num[numf])"
      ],
      "execution_count": 0,
      "outputs": []
    },
    {
      "cell_type": "code",
      "metadata": {
        "id": "VpfM-8cY-b6y",
        "colab_type": "code",
        "colab": {}
      },
      "source": [
        "ncols = 3\n",
        "nrows = len(numerical_features)\n",
        "\n",
        "plt.figure(figsize=(20, 50))\n",
        "\n",
        "df_num_all = df[numerical_features]\n",
        "\n",
        "for i, numf in enumerate(numerical_features):\n",
        "    df_col = df_num_all[numf]\n",
        "\n",
        "    # zero fill both nan and none\n",
        "    df_col = df_col.replace('None', np.nan)\n",
        "    df_col_zerofill = df_col.fillna(0)\n",
        "    df_col_zerofill = pd.to_numeric(df_col_zerofill)\n",
        "\n",
        "    plt.subplot(nrows, ncols, ncols * i + 1)\n",
        "    df_col_zerofill.hist()\n",
        "    plt.title('Assigned NaN and None to zero')\n",
        "    plt.xlabel(numf)\n",
        "\n",
        "    # drop nan, zero fill none\n",
        "    df_col_nandrop = df_col.dropna()\n",
        "    df_col_nandrop = df_col_nandrop.replace('None', 0)\n",
        "    df_col_nandrop = pd.to_numeric(df_col_nandrop)\n",
        "\n",
        "    plt.subplot(nrows, ncols, ncols * i + 2)\n",
        "    df_col_nandrop.hist()\n",
        "    plt.title('Drop NaN, None=0 values')\n",
        "    plt.xlabel(numf)\n",
        "\n",
        "    # drop both nan and none\n",
        "    df_col_alldrop = df_col.replace('None', np.nan)\n",
        "    df_col_alldrop = df_col_alldrop.dropna()\n",
        "    df_col_alldrop = pd.to_numeric(df_col_alldrop)\n",
        "    plt.subplot(nrows, ncols, ncols * i + 3)\n",
        "    df_col_alldrop.hist()\n",
        "    plt.title('Drop both NaN and None values')\n",
        "    plt.xlabel(numf)\n",
        "\n",
        "plt.show()"
      ],
      "execution_count": 0,
      "outputs": []
    },
    {
      "cell_type": "code",
      "metadata": {
        "id": "-JcWMbTc9uv6",
        "colab_type": "code",
        "colab": {}
      },
      "source": [
        "ncols = 2\n",
        "nrows = int(np.ceil(len(numerical_features)/ncols))\n",
        "\n",
        "plt.figure(figsize=(20, 50))\n",
        "\n",
        "df_numdrop = df_num.dropna()\n",
        "\n",
        "for i, numf in enumerate(numerical_features):\n",
        "    col = pd.to_numeric(df_numdrop[numf])\n",
        "    plt.subplot(nrows, ncols, i+1)\n",
        "    plt.boxplot(col)\n",
        "    plt.title(numf)\n",
        "\n",
        "plt.show()"
      ],
      "execution_count": 0,
      "outputs": []
    },
    {
      "cell_type": "markdown",
      "metadata": {
        "id": "ouBhtDRnjjb_",
        "colab_type": "text"
      },
      "source": [
        "### Bi-variate analysis\n",
        "\n",
        "1. Scatter plot for numerical data"
      ]
    },
    {
      "cell_type": "code",
      "metadata": {
        "id": "XqNfzxxMoEct",
        "colab_type": "code",
        "colab": {}
      },
      "source": [
        "df_num = df[numerical_features].replace('None', np.nan)\n",
        "\n",
        "# Correlations\n",
        "corr = df_num.corr()\n",
        "corr.style.background_gradient(cmap='coolwarm', axis=None).set_precision(2)\n",
        "\n",
        "corr"
      ],
      "execution_count": 0,
      "outputs": []
    },
    {
      "cell_type": "code",
      "metadata": {
        "id": "8hqz3tdZJ2SE",
        "colab_type": "code",
        "colab": {}
      },
      "source": [
        "for numf in numerical_features:\n",
        "    df_num[numf] = pd.to_numeric(df_num[numf])\n",
        "sns.pairplot(df_num)"
      ],
      "execution_count": 0,
      "outputs": []
    },
    {
      "cell_type": "markdown",
      "metadata": {
        "id": "rmng-cm8qFVI",
        "colab_type": "text"
      },
      "source": [
        "## Missing values identification and treatment"
      ]
    },
    {
      "cell_type": "code",
      "metadata": {
        "id": "rGSjDssxcMzR",
        "colab_type": "code",
        "colab": {}
      },
      "source": [
        "# Number of nan values for individual columns\n",
        "df.isna().sum()"
      ],
      "execution_count": 0,
      "outputs": []
    },
    {
      "cell_type": "code",
      "metadata": {
        "id": "dkBqlsTZqV9J",
        "colab_type": "code",
        "colab": {}
      },
      "source": [
        "# Number of None values for individual columns\n",
        "df[df.eq('None')].count()"
      ],
      "execution_count": 0,
      "outputs": []
    },
    {
      "cell_type": "code",
      "metadata": {
        "id": "hqP1ei-kq5e-",
        "colab_type": "code",
        "colab": {}
      },
      "source": [
        "# change none value to nan value\n",
        "df_rnone = df.replace('None', np.nan, regex=True)\n",
        "print(df_rnone.isna().sum())"
      ],
      "execution_count": 0,
      "outputs": []
    },
    {
      "cell_type": "code",
      "metadata": {
        "id": "Ch93DaeQy8Oo",
        "colab_type": "code",
        "colab": {}
      },
      "source": [
        ""
      ],
      "execution_count": 0,
      "outputs": []
    }
  ]
}